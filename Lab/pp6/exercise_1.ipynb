{
 "cells": [
  {
   "cell_type": "markdown",
   "id": "571d338c",
   "metadata": {},
   "source": [
    "## Computational Graph for the function\n",
    "\n",
    "<img src=\"./graph_1.png\" alt=\"computational graph for the function\" />"
   ]
  },
  {
   "cell_type": "markdown",
   "id": "d4795765",
   "metadata": {},
   "source": [
    "## Forward Primal and Tangent Traces Table\n",
    "\n",
    "| Primal Trace      | Tangent Trace | Pass $p^{(j=1)}$     | Pass $p^{(j=2)}$     |\n",
    "| :---        |    :----   |          :---: |        :---: |\n",
    "| elementary operation and value      | directional derivative with seed vector, p      | f with respect to x1 | f with respect to x2   |\n",
    "| $v_{-1}=x_{1}=\\frac{\\pi}{2}$   | $D_pv_{-1}=p_1 $       | 1     |0  |\n",
    "| $v_{0}=x_{2}=\\frac{\\pi}{3}$   | $D_pv_{0}=p_2 $       | 0      |1   |\n",
    "| $v_{1}=sin(v_{-1})$   |$D_pv_{1}= cos(v_{-1})D_pv_{-1}$         | 0      |0   |\n",
    "| $v_{2}=cos(v_0)$   | $D_pv_{2}= sin(v_{0})D_pv_{0}$         | 0      | $\\frac{\\sqrt{3}}{2}$   |\n",
    "| $v_{3}=v_1+v_2$   | $D_pv_{3}=D_pv_1 + D_pv_2 $        |0    |$\\frac{\\sqrt{3}}{2}$    |\n",
    "| $v_{4}=v_3^2$   | $D_pv_{4}= 2v_3 D_pv_3 $        | 0    |$\\frac{\\sqrt{3}}{2}$    |\n",
    "| $v_{5}=-v_4$   | $D_pv_{5}=-D_pv_4 $        | 0     |$- \\frac{\\sqrt{3}}{2}$   |\n",
    "| $v_{6}=e^{v_5}$   | $D_pv_{6}= e^{v_5}D_pv_5 $         | 0     | -0.67446  |\n"
   ]
  },
  {
   "cell_type": "markdown",
   "id": "ebef1f0e",
   "metadata": {},
   "source": [
    "## Evaluate at the quantities\n",
    "\n",
    "$ f = e^{- \\frac{1}{2}} = 0.7788 $<br>\n",
    "$ \\frac{\\delta f}{\\delta x_{1}} = 0 $<br>\n",
    "$ \\frac{\\delta f}{\\delta x_{2}} = \\frac{\\sqrt{3}}{2} e^{-\\frac{1}{2}} = 0.6745 $"
   ]
  },
  {
   "cell_type": "code",
   "execution_count": null,
   "id": "1bfdeba5",
   "metadata": {},
   "outputs": [],
   "source": []
  }
 ],
 "metadata": {
  "kernelspec": {
   "display_name": "Python 3",
   "language": "python",
   "name": "python3"
  },
  "language_info": {
   "codemirror_mode": {
    "name": "ipython",
    "version": 3
   },
   "file_extension": ".py",
   "mimetype": "text/x-python",
   "name": "python",
   "nbconvert_exporter": "python",
   "pygments_lexer": "ipython3",
   "version": "3.8.8"
  }
 },
 "nbformat": 4,
 "nbformat_minor": 5
}
