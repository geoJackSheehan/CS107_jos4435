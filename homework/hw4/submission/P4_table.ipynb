{
 "cells": [
  {
   "cell_type": "markdown",
   "id": "ce301b20",
   "metadata": {},
   "source": [
    "## Table for function: $ f(x) = w_{out}^T z(Wx+b) + b_{out}$"
   ]
  },
  {
   "cell_type": "markdown",
   "id": "f2ba71d5",
   "metadata": {},
   "source": [
    "\n",
    "| Primal Trace      | Tangent Trace |\n",
    "| :---        |    :----   |\n",
    "| \"elementary operation\"      | \"directional derivative with seed vector p, where p is a general parameter that we choose values for at the end\" |\n",
    "| $v_{-1}=x_{1}$   | $D_pv_{-1}=p_1 $       |\n",
    "| $v_{0}=x_{2}$   | $D_pv_{0}=p_2 $       |\n",
    "| $v_{1}= w_{11}v_{-1}$   |$D_pv_{1}= w_{11}D_pv_{-1} = w_{11}p_1$         |\n",
    "| $v_{2}=w_{21}v_{-1}$   | $D_pv_{2}= w_{21}D_pv_{-1} = w_{21}p_1 $         | \n",
    "| $v_{3}=w_{12}v_0$   | $D_pv_{3}= w_{12}D_pv_0 = w_{12}p_2 $        |\n",
    "| $v_{4}=w_{22}v_{0}$   | $D_pv_{4}= w_{22}D_pv_0 = w_{22}p_2$        | \n",
    "| $v_{5}= v_1 + v_3$   | $D_pv_{5}= D_pv_1 + D_pv_3 = w_{11}p_1 + w_{12}p_1$ |\n",
    "| $v_{6}= v_2 + v_4$   | $D_pv_{6}= D_pv_2 + D_pv_4 = w_{21}p_1 + w_{22}p_2 $         |\n",
    "| $v_{7}= z(v_5)$   | $D_pv_{7}= D_pz(v_5) = z'(v_5)D_pv_5 = z'(v_5)(w_{11}p_1 + w_{12}p_2) $        |\n",
    "| $v_{8}= z(v_6)$   | $D_pv_{8}= D_pz(v_6) = z'(v_6)D_pv_6 = z'(v_6)(w_{21}p_1 + w_{22}p_2)$         |\n",
    "| $v_{9}= w_{out,1}v_7$   | $D_pv_{9}= w_{out,1}D_pv_7 = w_{out,1}z'(v_5)(w_{11}p_1 + w_{12}p_2) $         |\n",
    "| $v_{10}= w_{out,2}v_8$   | $D_pv_{10}= w_{out,2}D_pv_8 = w_{out,2}z'(v_6)(w_{21}p_1 + w_{22}p_2)$         |\n",
    "| $v_{11}= v_9 + v_{10}$   | $D_pv_{11}= D_pv_9 + D_pv_{10} = w_{out,1}z'(v_5)(w_{11}p_1 + w_{12}p_2) + w_{out,2}z'(v_6)(w_{21}p_1 + w_{22}p_2) $         |\n"
   ]
  },
  {
   "cell_type": "markdown",
   "id": "89c43354",
   "metadata": {},
   "source": [
    "### Analytical relations:"
   ]
  },
  {
   "cell_type": "markdown",
   "id": "a0355a2d",
   "metadata": {},
   "source": [
    "$ f(x) = v_{11} = w_{out,1}z'(v_5)(w_{11}x_1 + w_{12}x_2) + w_{out,2}z'(v_6)(w_{21}x_1 + w_{22}x_2) $<br>\n",
    "$ \\frac{\\delta f}{\\delta x_1} = w_{out,1}z'(v_5)(w_{11}x_1 + w_{12}x_2)(w_{11}) + w_{out,2}z'(v_6)(w_{21}x_1 + w_{22}x_2)(w_{21}) $<br>\n",
    "$ \\frac{\\delta f}{\\delta x_2} = w_{out,1}z'(v_5)(w_{11}x_1 + w_{12}x_2)(w_{12}) + w_{out,2}z'(v_6)(w_{21}x_1 + w_{22}x_2)(w_{22}) $<br>"
   ]
  }
 ],
 "metadata": {
  "kernelspec": {
   "display_name": "Python 3",
   "language": "python",
   "name": "python3"
  },
  "language_info": {
   "codemirror_mode": {
    "name": "ipython",
    "version": 3
   },
   "file_extension": ".py",
   "mimetype": "text/x-python",
   "name": "python",
   "nbconvert_exporter": "python",
   "pygments_lexer": "ipython3",
   "version": "3.8.8"
  }
 },
 "nbformat": 4,
 "nbformat_minor": 5
}
